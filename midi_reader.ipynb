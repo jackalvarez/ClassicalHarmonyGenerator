{
 "cells": [
  {
   "cell_type": "code",
   "execution_count": 14,
   "metadata": {},
   "outputs": [
    {
     "name": "stdout",
     "output_type": "stream",
     "text": [
      "my path is:  prueba.mid \n",
      "\n",
      "trying to open prueba.mid\n",
      "trying to open prueba.mid\n",
      "trying to open prueba.mid\n",
      "trying to open prueba.mid\n",
      "trying to open prueba.mid\n",
      "trying to open prueba.mid\n",
      "trying to open prueba.mid\n",
      "trying to open prueba.mid\n",
      "trying to open prueba.mid\n",
      "trying to open prueba.mid\n",
      "(37, 88, 316560)\n"
     ]
    }
   ],
   "source": [
    "from mido import MidiFile, MidiTrack, Message, MetaMessage\n",
    "from keras.callbacks import callbacks\n",
    "import numpy as np\n",
    "import os #to get current path\n",
    "\n",
    "def main():\n",
    "    #dir_path = os.path.dirname(os.path.realpath(__file__))\n",
    "    print(getNoteRangeAndTicks(\"prueba.mid\"))\n",
    "\n",
    "def getNoteRangeAndTicks(files_dir, res_factor=1):\n",
    "    print(\"my path is: \", files_dir, \"\\n\")\n",
    "    ticks = []\n",
    "    notes = []\n",
    "    for file_dir in files_dir:\n",
    "        file_path = \"%s\" %(file_dir)\n",
    "        print(\"trying to open\", files_dir)\n",
    "        mid = MidiFile(files_dir)\n",
    "\n",
    "        for track in mid.tracks: #preprocessing: Checking range of notes and total number of ticks\n",
    "            num_ticks = 0\n",
    "            for message in track:\n",
    "                if not isinstance(message, MetaMessage):\n",
    "                    #print(message)\n",
    "                    if message.type == \"note_on\" or message.type == \"note_off\":\n",
    "                        notes.append(message.note)\n",
    "                    num_ticks += int(message.time/res_factor)\n",
    "            ticks.append(num_ticks)\n",
    "\n",
    "    return min(notes), max(notes), max(ticks) \n",
    "\n",
    "if __name__ == \"__main__\":\n",
    "    main()\n"
   ]
  },
  {
   "cell_type": "code",
   "execution_count": null,
   "metadata": {},
   "outputs": [],
   "source": []
  }
 ],
 "metadata": {
  "kernelspec": {
   "display_name": "Python 3",
   "language": "python",
   "name": "python3"
  },
  "language_info": {
   "codemirror_mode": {
    "name": "ipython",
    "version": 3
   },
   "file_extension": ".py",
   "mimetype": "text/x-python",
   "name": "python",
   "nbconvert_exporter": "python",
   "pygments_lexer": "ipython3",
   "version": "3.7.5"
  }
 },
 "nbformat": 4,
 "nbformat_minor": 2
}
